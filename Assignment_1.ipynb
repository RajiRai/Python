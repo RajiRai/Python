{
  "nbformat": 4,
  "nbformat_minor": 0,
  "metadata": {
    "colab": {
      "name": "Assignment 1",
      "provenance": [],
      "collapsed_sections": [],
      "authorship_tag": "ABX9TyP4N1UUkdPHPebTHNW3Wr/g",
      "include_colab_link": true
    },
    "kernelspec": {
      "name": "python3",
      "display_name": "Python 3"
    }
  },
  "cells": [
    {
      "cell_type": "markdown",
      "metadata": {
        "id": "view-in-github",
        "colab_type": "text"
      },
      "source": [
        "<a href=\"https://colab.research.google.com/github/RajiRai/Python/blob/master/Assignment_1.ipynb\" target=\"_parent\"><img src=\"https://colab.research.google.com/assets/colab-badge.svg\" alt=\"Open In Colab\"/></a>"
      ]
    },
    {
      "cell_type": "code",
      "metadata": {
        "id": "MjvCHDwGy43D",
        "colab_type": "code",
        "outputId": "3688ef28-a251-4446-fcd0-9471190e86db",
        "colab": {
          "base_uri": "https://localhost:8080/",
          "height": 54
        }
      },
      "source": [
        "#Task 1 Q2\n",
        "l=list(range(2000,3200))\n",
        "m=[]\n",
        "for i in l:\n",
        "  if i % 7 == 0 and i % 5 != 0:\n",
        "    m.append(i)\n",
        "print (m)"
      ],
      "execution_count": 0,
      "outputs": [
        {
          "output_type": "stream",
          "text": [
            "[2002, 2009, 2016, 2023, 2037, 2044, 2051, 2058, 2072, 2079, 2086, 2093, 2107, 2114, 2121, 2128, 2142, 2149, 2156, 2163, 2177, 2184, 2191, 2198, 2212, 2219, 2226, 2233, 2247, 2254, 2261, 2268, 2282, 2289, 2296, 2303, 2317, 2324, 2331, 2338, 2352, 2359, 2366, 2373, 2387, 2394, 2401, 2408, 2422, 2429, 2436, 2443, 2457, 2464, 2471, 2478, 2492, 2499, 2506, 2513, 2527, 2534, 2541, 2548, 2562, 2569, 2576, 2583, 2597, 2604, 2611, 2618, 2632, 2639, 2646, 2653, 2667, 2674, 2681, 2688, 2702, 2709, 2716, 2723, 2737, 2744, 2751, 2758, 2772, 2779, 2786, 2793, 2807, 2814, 2821, 2828, 2842, 2849, 2856, 2863, 2877, 2884, 2891, 2898, 2912, 2919, 2926, 2933, 2947, 2954, 2961, 2968, 2982, 2989, 2996, 3003, 3017, 3024, 3031, 3038, 3052, 3059, 3066, 3073, 3087, 3094, 3101, 3108, 3122, 3129, 3136, 3143, 3157, 3164, 3171, 3178, 3192, 3199]\n"
          ],
          "name": "stdout"
        }
      ]
    },
    {
      "cell_type": "code",
      "metadata": {
        "id": "OiI-ZKR8tr2Y",
        "colab_type": "code",
        "outputId": "f0a6c5f5-ae8a-4867-bf7c-3d7434d35408",
        "colab": {
          "base_uri": "https://localhost:8080/",
          "height": 84
        }
      },
      "source": [
        "# Q3\n",
        "print (\"enter your first and last name \\n\")\n",
        "name = input()\n",
        "revname = name[::-1]\n",
        "print(revname)\n"
      ],
      "execution_count": 0,
      "outputs": [
        {
          "output_type": "stream",
          "text": [
            "enter your first and last name \n",
            "\n",
            "raji rai\n"
          ],
          "name": "stdout"
        },
        {
          "output_type": "execute_result",
          "data": {
            "text/plain": [
              "'iar ijar'"
            ]
          },
          "metadata": {
            "tags": []
          },
          "execution_count": 18
        }
      ]
    },
    {
      "cell_type": "code",
      "metadata": {
        "id": "1kJE7GsAxGxR",
        "colab_type": "code",
        "outputId": "c02f2068-5fea-43c8-a9c9-e7143bfa4b4b",
        "colab": {
          "base_uri": "https://localhost:8080/",
          "height": 50
        }
      },
      "source": [
        "# Q4\n",
        "Dia = 12\n",
        "r=Dia/2\n",
        "volume = (4/3)*(22/7)*(r**3)\n",
        "\n",
        "print (\"volume of the sphere is \\n\", round(volume,2),\"cubic meter\")"
      ],
      "execution_count": 0,
      "outputs": [
        {
          "output_type": "stream",
          "text": [
            "volume of the sphere is \n",
            " 905.14 cubic meter\n"
          ],
          "name": "stdout"
        }
      ]
    },
    {
      "cell_type": "code",
      "metadata": {
        "id": "ZNPWcbVE1AQg",
        "colab_type": "code",
        "outputId": "f8179aec-41be-4fad-ab6f-35b1436d6c30",
        "colab": {
          "base_uri": "https://localhost:8080/",
          "height": 84
        }
      },
      "source": [
        "# Task 2 Q1\n",
        "print (\"enter comma seperated values \\n\")\n",
        "li= input()\n",
        "m=[]\n",
        "for i in li:\n",
        "  if i != ',':\n",
        "    m.append(int(i))\n",
        "\n",
        "print (m)\n"
      ],
      "execution_count": 0,
      "outputs": [
        {
          "output_type": "stream",
          "text": [
            "enter comma seperated values \n",
            "\n",
            "1,2,3,4,5,6\n",
            "[1, 2, 3, 4, 5, 6]\n"
          ],
          "name": "stdout"
        }
      ]
    },
    {
      "cell_type": "code",
      "metadata": {
        "id": "dnxG2bW626H2",
        "colab_type": "code",
        "outputId": "b55ae3a2-011d-4922-c3a5-472bde3d5000",
        "colab": {
          "base_uri": "https://localhost:8080/",
          "height": 168
        }
      },
      "source": [
        "#Q2\n",
        "\n",
        "for i in range (1):\n",
        "  print (' .\\n','..\\n','...\\n','....\\n','.....')\n",
        "for j in range (1):\n",
        "  print (' ....\\n','...\\n','..\\n','.')\n",
        "  \n",
        "         "
      ],
      "execution_count": 0,
      "outputs": [
        {
          "output_type": "stream",
          "text": [
            " .\n",
            " ..\n",
            " ...\n",
            " ....\n",
            " .....\n",
            " ....\n",
            " ...\n",
            " ..\n",
            " .\n"
          ],
          "name": "stdout"
        }
      ]
    },
    {
      "cell_type": "code",
      "metadata": {
        "id": "yncobxz767Oq",
        "colab_type": "code",
        "outputId": "a2c4a740-f8b6-4d71-e779-66849e1d44f9",
        "colab": {
          "base_uri": "https://localhost:8080/",
          "height": 84
        }
      },
      "source": [
        "#Q3\n",
        "print (\"enter a word \\n\")\n",
        "w=input()\n",
        "rw=w[::-1]\n",
        "print(rw)"
      ],
      "execution_count": 0,
      "outputs": [
        {
          "output_type": "stream",
          "text": [
            "enter a word \n",
            "\n",
            "doggy\n",
            "yggod\n"
          ],
          "name": "stdout"
        }
      ]
    },
    {
      "cell_type": "code",
      "metadata": {
        "id": "F8IS2yRQ7XRg",
        "colab_type": "code",
        "outputId": "290df7f3-4857-4dba-9730-a9227a2aa941",
        "colab": {
          "base_uri": "https://localhost:8080/",
          "height": 84
        }
      },
      "source": [
        "\n",
        "print (\"WE, THE PEOPLE OF INDIA,\\n\",\"\\t having solemnly resolved to constitute India into a SOVEREIGN,!\\n\",\"\\t \\t SOCIALIST, SECULAR, DEMOCRATIC REPUBLIC \\n\", \"\\t \\t and to secure to all its citizens.\")"
      ],
      "execution_count": 0,
      "outputs": [
        {
          "output_type": "stream",
          "text": [
            "WE, THE PEOPLE OF INDIA,\n",
            " \t having solemnly resolved to constitute India into a SOVEREIGN,!\n",
            " \t \t SOCIALIST, SECULAR, DEMOCRATIC REPUBLIC \n",
            " \t \t and to secure to all its citizens.\n"
          ],
          "name": "stdout"
        }
      ]
    },
    {
      "cell_type": "code",
      "metadata": {
        "id": "ObmMpcIH8mlg",
        "colab_type": "code",
        "colab": {}
      },
      "source": [
        ""
      ],
      "execution_count": 0,
      "outputs": []
    }
  ]
}