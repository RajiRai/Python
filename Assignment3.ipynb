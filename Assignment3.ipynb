{
  "nbformat": 4,
  "nbformat_minor": 0,
  "metadata": {
    "colab": {
      "name": "Assignment3.ipynb",
      "provenance": [],
      "authorship_tag": "ABX9TyNS0sGEQ/4lvDM7cyyuOg9z",
      "include_colab_link": true
    },
    "kernelspec": {
      "name": "python3",
      "display_name": "Python 3"
    }
  },
  "cells": [
    {
      "cell_type": "markdown",
      "metadata": {
        "id": "view-in-github",
        "colab_type": "text"
      },
      "source": [
        "<a href=\"https://colab.research.google.com/github/RajiRai/Python/blob/master/Assignment3.ipynb\" target=\"_parent\"><img src=\"https://colab.research.google.com/assets/colab-badge.svg\" alt=\"Open In Colab\"/></a>"
      ]
    },
    {
      "cell_type": "code",
      "metadata": {
        "id": "e881fM4u5nJz",
        "colab_type": "code",
        "colab": {
          "base_uri": "https://localhost:8080/",
          "height": 51
        },
        "outputId": "8ea42eda-c033-4ce6-f0e4-6d751641ae7a"
      },
      "source": [
        "#Q2.1\n",
        "def div():\n",
        "  return 5/0\n",
        "\n",
        "try:\n",
        "  div()\n",
        "  print(\"Successful division operation\")\n",
        "except:\n",
        "  print(\"Cannot divide a number by 0\") \n",
        "finally:\n",
        "  print(\"Executed the code\")\n"
      ],
      "execution_count": 5,
      "outputs": [
        {
          "output_type": "stream",
          "text": [
            "Cannot divide a number by 0\n",
            "Executed the code\n"
          ],
          "name": "stdout"
        }
      ]
    },
    {
      "cell_type": "code",
      "metadata": {
        "id": "-evQw6urMAkt",
        "colab_type": "code",
        "colab": {}
      },
      "source": [
        "#Q2.2\n",
        "subjects=[\"Americans \",\"Indians \"] \n",
        "verbs=[\"play \",\"watch \"] \n",
        "objects=[\"Baseball\",\"Cricket\"] \n",
        "\n",
        "def gen (sub,ver,obj):\n",
        "  m=[]\n",
        "  n=[]\n",
        "  j=[]\n",
        "  k=[]\n",
        "  for i in sub:\n",
        "    m.append(i+ver[0]+obj[0])\n",
        " \n",
        "  \n",
        "  for i in sub:\n",
        "    n.append(i+ver[1]+obj[1])\n",
        "  \n",
        "  \n",
        "  for i in sub:\n",
        "    j.append(i+ver[0]+obj[1])\n",
        "  \n",
        "\n",
        "  for i in sub:\n",
        "    k.append(i+ver[1]+obj[0])\n",
        "  \n",
        "  print(m[0]) \n",
        "  print(j[0])\n",
        "  print(k[0])\n",
        "  print(n[0])\n",
        "  print(m[1])\n",
        "  print(j[1])\n",
        "  print(n[1])\n",
        "  print(k[1])\n",
        " "
      ],
      "execution_count": 0,
      "outputs": []
    },
    {
      "cell_type": "code",
      "metadata": {
        "id": "07YBOJ4_NXvg",
        "colab_type": "code",
        "colab": {
          "base_uri": "https://localhost:8080/",
          "height": 85
        },
        "outputId": "f9d6c9ed-743f-40d2-edc4-516911605d27"
      },
      "source": [
        "#Q2.1\n",
        "import numpy as np\n",
        "from numpy.random import randn as rn\n",
        "x=rn(4)\n",
        "N=4\n",
        "np.vander(x,N)\n",
        "\n",
        "\n",
        "\n"
      ],
      "execution_count": 15,
      "outputs": [
        {
          "output_type": "execute_result",
          "data": {
            "text/plain": [
              "array([[ 5.45302688,  3.0980738 ,  1.7601346 ,  1.        ],\n",
              "       [-2.06241082,  1.6202553 , -1.27289249,  1.        ],\n",
              "       [-0.02592934,  0.08760476, -0.29598101,  1.        ],\n",
              "       [-0.720694  ,  0.80383566, -0.89656883,  1.        ]])"
            ]
          },
          "metadata": {
            "tags": []
          },
          "execution_count": 15
        }
      ]
    }
  ]
}