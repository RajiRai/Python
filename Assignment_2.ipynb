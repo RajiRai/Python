{
  "nbformat": 4,
  "nbformat_minor": 0,
  "metadata": {
    "colab": {
      "name": "Assignment 2.ipynb",
      "provenance": [],
      "authorship_tag": "ABX9TyPbyYx+acadv6KiVi48DDtG",
      "include_colab_link": true
    },
    "kernelspec": {
      "name": "python3",
      "display_name": "Python 3"
    }
  },
  "cells": [
    {
      "cell_type": "markdown",
      "metadata": {
        "id": "view-in-github",
        "colab_type": "text"
      },
      "source": [
        "<a href=\"https://colab.research.google.com/github/RajiRai/Python/blob/master/Assignment_2.ipynb\" target=\"_parent\"><img src=\"https://colab.research.google.com/assets/colab-badge.svg\" alt=\"Open In Colab\"/></a>"
      ]
    },
    {
      "cell_type": "code",
      "metadata": {
        "id": "qL7ORwGCrYpQ",
        "colab_type": "code",
        "colab": {}
      },
      "source": [
        "#Q 1.1\n",
        "def myreduce(a,b):\n",
        "   c = iter(b)\n",
        "   j=next(c)\n",
        "   for i in c:\n",
        "     j = a(i,j)\n",
        "   return j"
      ],
      "execution_count": 0,
      "outputs": []
    },
    {
      "cell_type": "code",
      "metadata": {
        "id": "r9ctxt7h1bfZ",
        "colab_type": "code",
        "colab": {}
      },
      "source": [
        "#Q 1.2\n",
        "def myfilter(a,b):\n",
        "  m=[]\n",
        "  for i in b:\n",
        "     if a(i):\n",
        "       m.append(i)\n",
        "  return m\n"
      ],
      "execution_count": 0,
      "outputs": []
    },
    {
      "cell_type": "code",
      "metadata": {
        "id": "59ET4dGs_luz",
        "colab_type": "code",
        "colab": {
          "base_uri": "https://localhost:8080/",
          "height": 35
        },
        "outputId": "146d97d9-957f-4042-b58c-0ec7008263be"
      },
      "source": [
        "l=range(1,9)\n",
        "\n",
        "li=[n**2 for n in l if n%2==0]\n",
        "li"
      ],
      "execution_count": 71,
      "outputs": [
        {
          "output_type": "execute_result",
          "data": {
            "text/plain": [
              "[4, 16, 36, 64]"
            ]
          },
          "metadata": {
            "tags": []
          },
          "execution_count": 71
        }
      ]
    },
    {
      "cell_type": "code",
      "metadata": {
        "id": "r3QkEnlPANlb",
        "colab_type": "code",
        "colab": {}
      },
      "source": [
        "#Q2\n",
        "['A', 'C', 'A', 'D', 'G', 'I', ’L’, ‘ D’] \n",
        " \n",
        "['x', 'xx', 'xxx', 'xxxx', 'y', 'yy', 'yyy', 'yyyy', 'z', 'zz', 'zzz', 'zzzz'] \n",
        " \n",
        "['x', 'y', 'z', 'xx', 'yy', 'zz', 'xx', 'yy', 'zz', 'xxxx', 'yyyy', 'zzzz'] \n",
        " \n",
        "[[2], [3], [4], [3], [4], [5], [4], [5], [6]] \n",
        " \n",
        "[[2, 3, 4, 5], [3, 4, 5, 6], [4, 5, 6, 7], [5, 6, 7, 8]] \n",
        " \n",
        "[(1, 1), (2, 1), (3, 1), (1, 2), (2, 2), (3, 2), (1, 3), (2, 3), (3, 3)] #Q2"
      ],
      "execution_count": 0,
      "outputs": []
    },
    {
      "cell_type": "code",
      "metadata": {
        "id": "glLEhxvgAQGv",
        "colab_type": "code",
        "colab": {
          "base_uri": "https://localhost:8080/",
          "height": 35
        },
        "outputId": "7ba3058a-3ac2-4bea-c6fd-b632c58a858e"
      },
      "source": [
        "l1=[2,3,4,3,4,5,4,5,6]\n",
        "ln1=[[l1.pop()] for x in l1]\n",
        "ln1"
      ],
      "execution_count": 88,
      "outputs": [
        {
          "output_type": "execute_result",
          "data": {
            "text/plain": [
              "[[6], [5], [4], [5], [4]]"
            ]
          },
          "metadata": {
            "tags": []
          },
          "execution_count": 88
        }
      ]
    },
    {
      "cell_type": "code",
      "metadata": {
        "id": "xYYJFwE4LT33",
        "colab_type": "code",
        "colab": {
          "base_uri": "https://localhost:8080/",
          "height": 35
        },
        "outputId": "3d7684db-0c63-4565-865e-af996c7c285e"
      },
      "source": [
        "l2=['x','y','z']\n",
        "ln2=l2+(['xx','yy','zz']*2)+['xxxx','yyyy','zzzz']\n",
        "ln2"
      ],
      "execution_count": 98,
      "outputs": [
        {
          "output_type": "execute_result",
          "data": {
            "text/plain": [
              "['x', 'y', 'z', 'xx', 'yy', 'zz', 'xx', 'yy', 'zz', 'xxxx', 'yyyy', 'zzzz']"
            ]
          },
          "metadata": {
            "tags": []
          },
          "execution_count": 98
        }
      ]
    },
    {
      "cell_type": "code",
      "metadata": {
        "id": "TIEcmqiRcIuw",
        "colab_type": "code",
        "colab": {}
      },
      "source": [
        "#Q1.3\n",
        "def longword (l):\n",
        "  m=[]\n",
        "  for i in l:\n",
        "    m.append(len(i))\n",
        "  n=m.index(max(m))\n",
        "  for i in l:\n",
        "    if l.index(i) == n:\n",
        "      print (i) \n",
        "     "
      ],
      "execution_count": 0,
      "outputs": []
    },
    {
      "cell_type": "code",
      "metadata": {
        "id": "E7k9hs3Wy4oF",
        "colab_type": "code",
        "colab": {}
      },
      "source": [
        "# Task 2\n",
        "#1.1\n",
        "\n",
        "class TriSide:\n",
        "  def __init__(self):\n",
        "    self.a = input(\"enter for side 1 \\n\")\n",
        "    self.b = input(\"enter for side 2 \\n\") \n",
        "    self.c = input(\"enter for side 3 \\n\")\n",
        "\n",
        "class Triarea(TriSide):\n",
        "  def __init__(self):\n",
        "    TriSide.__init__(self)\n",
        "    a=self.a\n",
        "    b=self.b\n",
        "    c=self.c\n",
        "\n",
        "    s = (int(a)+int(b)+int(c))/2\n",
        "    a=int(a)\n",
        "    b=int(b)\n",
        "    c=int(c)\n",
        "    area = (s*(s-a)*(s-b)*(s-c)) ** 0.5\n",
        "    print(area)  \n",
        "  \n",
        "  t=Triarea()  \n"
      ],
      "execution_count": 0,
      "outputs": []
    },
    {
      "cell_type": "code",
      "metadata": {
        "id": "Fwpb_HD_z1re",
        "colab_type": "code",
        "colab": {}
      },
      "source": [
        "#Q1.2\n",
        "def  filter_long_words(l,n):\n",
        "  m=[]\n",
        "  for i in l:\n",
        "    if len(i)>n:\n",
        "      m.append(i)\n",
        "  print (\"List of words longer than the given integer are \",m)\n"
      ],
      "execution_count": 0,
      "outputs": []
    },
    {
      "cell_type": "code",
      "metadata": {
        "id": "5oYKoEjLKXdC",
        "colab_type": "code",
        "colab": {}
      },
      "source": [
        "#Q2.1\n",
        "def maplist(l):\n",
        "  m=[]\n",
        "  for i in l:\n",
        "    m.append(len(i))\n",
        "  print (\"List of words in terms of its length are \",m)\n"
      ],
      "execution_count": 0,
      "outputs": []
    },
    {
      "cell_type": "code",
      "metadata": {
        "id": "DOY-NGa9LuIG",
        "colab_type": "code",
        "colab": {}
      },
      "source": [
        "#Q2.2\n",
        "def vow(str):\n",
        "  if str == 'a' or str == 'e' or str == 'i' or str == 'o' or str == 'u':\n",
        "    return True \n",
        "  else:\n",
        "    return False\n"
      ],
      "execution_count": 0,
      "outputs": []
    }
  ]
}